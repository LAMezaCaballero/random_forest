{
 "cells": [
  {
   "cell_type": "markdown",
   "metadata": {},
   "source": [
    "crear un arbol que funcione de referencia\n",
    "buscar el 'indice gini' para ver los niveles de impuresas en un arbol\n",
    "generando un limite para separar los elementos para cada descripcion(columna)\n",
    "\n",
    "https://www.youtube.com/watch?v=kqaLlte6P6o definiciones\n",
    "\n",
    "https://www.youtube.com/watch?v=2Miw4bjzSF0 armado"
   ]
  },
  {
   "cell_type": "markdown",
   "metadata": {},
   "source": [
    "dependiendo del tipo de analisis son las librerias a usar :"
   ]
  },
  {
   "cell_type": "code",
   "execution_count": 1,
   "metadata": {},
   "outputs": [],
   "source": [
    "from sklearn.ensemble import RandomForestClassifier  # Para clasificación\n",
    "from sklearn.ensemble import RandomForestRegressor  # Para regresión\n",
    "from sklearn.model_selection import train_test_split #para entrenar con una parte del DF\n",
    "from sklearn.metrics import accuracy_score  # Para clasificación\n",
    "from sklearn.metrics import mean_squared_error  # Para regresión\n",
    "import pandas as pd"
   ]
  },
  {
   "cell_type": "markdown",
   "metadata": {},
   "source": [
    "Paso 2: Cargar y preparar los datos\n",
    "\n",
    "Supongamos que tienes un conjunto de datos en un archivo CSV. Puedes cargarlo utilizando pandas y dividir los datos en conjuntos de entrenamiento y prueba."
   ]
  },
  {
   "cell_type": "code",
   "execution_count": null,
   "metadata": {},
   "outputs": [],
   "source": [
    "# Cargar el dataset\n",
    "data = pd.read_csv('datos.csv')\n",
    "\n",
    "# Separar características (X) y variable objetivo (y)\n",
    "X = data.drop('objetivo', axis=1)  # Reemplaza 'objetivo' con el nombre de tu variable objetivo\n",
    "y = data['objetivo']\n",
    "\n",
    "# Dividir en conjuntos de entrenamiento y prueba\n",
    "X_train, X_test, y_train, y_test = train_test_split(X, y, test_size=0.2, random_state=42)\n"
   ]
  },
  {
   "cell_type": "markdown",
   "metadata": {},
   "source": [
    "Paso 3: Crear y entrenar el modelo de Random Forest\n",
    "\n",
    "Dependiendo de si tu problema es de clasificación o regresión, puedes utilizar RandomForestClassifier o RandomForestRegressor."
   ]
  },
  {
   "cell_type": "code",
   "execution_count": null,
   "metadata": {},
   "outputs": [],
   "source": [
    "# Crear el modelo para clasificación\n",
    "rf_classifier = RandomForestClassifier(n_estimators=100, random_state=42)\n",
    "\n",
    "# Entrenar el modelo\n",
    "rf_classifier.fit(X_train, y_train)"
   ]
  },
  {
   "cell_type": "code",
   "execution_count": null,
   "metadata": {},
   "outputs": [],
   "source": [
    "# Crear el modelo para regresion\n",
    "rf_regressor = RandomForestRegressor(n_estimators=100, random_state=42)\n",
    "\n",
    "# Entrenar el modelo\n",
    "rf_regressor.fit(X_train, y_train)\n"
   ]
  },
  {
   "cell_type": "markdown",
   "metadata": {},
   "source": [
    "Paso 4: Realizar predicciones y evaluar el modelo"
   ]
  },
  {
   "cell_type": "code",
   "execution_count": null,
   "metadata": {},
   "outputs": [],
   "source": [
    "# Realizar predicciones para clasificacion\n",
    "y_pred = rf_classifier.predict(X_test)\n",
    "\n",
    "# Evaluar el modelo\n",
    "accuracy = accuracy_score(y_test, y_pred)\n",
    "print(f'Precisión del modelo: {accuracy}')\n"
   ]
  },
  {
   "cell_type": "code",
   "execution_count": null,
   "metadata": {},
   "outputs": [],
   "source": [
    "# Realizar predicciones regresiones\n",
    "y_pred = rf_regressor.predict(X_test)\n",
    "\n",
    "# Evaluar el modelo\n",
    "mse = mean_squared_error(y_test, y_pred)\n",
    "print(f'Error cuadrático medio del modelo: {mse}')\n"
   ]
  },
  {
   "cell_type": "markdown",
   "metadata": {},
   "source": [
    "Paso 5: Ajuste de hiperparámetros (opcional)\n",
    "\n",
    "Puedes ajustar los hiperparámetros del modelo de Random Forest utilizando técnicas como la búsqueda en cuadrícula (GridSearchCV) o la búsqueda aleatoria (RandomizedSearchCV) para encontrar los mejores parámetros para tu modelo."
   ]
  },
  {
   "cell_type": "code",
   "execution_count": null,
   "metadata": {},
   "outputs": [],
   "source": [
    "from sklearn.model_selection import GridSearchCV\n",
    "\n",
    "# Definir los parámetros a ajustar\n",
    "param_grid = {\n",
    "    'n_estimators': [100, 200, 300],\n",
    "    'max_depth': [None, 10, 20, 30],\n",
    "    'min_samples_split': [2, 5, 10],\n",
    "    'min_samples_leaf': [1, 2, 4],\n",
    "    'bootstrap': [True, False]\n",
    "}\n",
    "\n",
    "# Configurar la búsqueda en cuadrícula\n",
    "grid_search = GridSearchCV(estimator=rf_classifier, param_grid=param_grid, cv=3, n_jobs=-1, verbose=2)\n",
    "\n",
    "# Ajustar el modelo\n",
    "grid_search.fit(X_train, y_train)\n",
    "\n",
    "# Obtener los mejores parámetros\n",
    "print(f'Mejores parámetros: {grid_search.best_params_}')\n"
   ]
  }
 ],
 "metadata": {
  "kernelspec": {
   "display_name": "Python 3",
   "language": "python",
   "name": "python3"
  },
  "language_info": {
   "codemirror_mode": {
    "name": "ipython",
    "version": 3
   },
   "file_extension": ".py",
   "mimetype": "text/x-python",
   "name": "python",
   "nbconvert_exporter": "python",
   "pygments_lexer": "ipython3",
   "version": "3.11.8"
  }
 },
 "nbformat": 4,
 "nbformat_minor": 2
}
