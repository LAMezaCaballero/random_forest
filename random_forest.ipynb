{
 "cells": [
  {
   "cell_type": "code",
   "execution_count": null,
   "metadata": {},
   "outputs": [],
   "source": []
  },
  {
   "cell_type": "markdown",
   "metadata": {},
   "source": [
    "crear un arbol que funcione de referencia\n",
    "buscar el 'indice gini' para ver los niveles de impuresas en un arbol\n",
    "generando un limite para separar los elementos para cada descripcion(columna)\n",
    "\n",
    "https://www.youtube.com/watch?v=kqaLlte6P6o definiciones\n",
    "\n",
    "https://www.youtube.com/watch?v=2Miw4bjzSF0 armado"
   ]
  }
 ],
 "metadata": {
  "language_info": {
   "name": "python"
  }
 },
 "nbformat": 4,
 "nbformat_minor": 2
}
